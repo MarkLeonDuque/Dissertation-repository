{
 "cells": [
  {
   "cell_type": "code",
   "execution_count": 2,
   "id": "e8024fc0",
   "metadata": {},
   "outputs": [],
   "source": [
    "import pandas as pd\n",
    "import numpy as np"
   ]
  },
  {
   "cell_type": "code",
   "execution_count": 2,
   "id": "87730746",
   "metadata": {},
   "outputs": [],
   "source": [
    "BAF_genes = pd.read_excel('BAF genes.xlsx')\n",
    "BAF_losslike_genes = pd.read_excel('cBAFlosslike_gene_mut_enrich.xlsx')\n",
    "MT_genes = pd.read_excel('All_cell_MTvsWT.xlsx')"
   ]
  },
  {
   "cell_type": "code",
   "execution_count": 3,
   "id": "42558c29",
   "metadata": {},
   "outputs": [],
   "source": [
    "p53WT = pd.read_excel('TP53WT_cells_AUC_DepmapID.xlsx')\n",
    "p53MUT = pd.read_excel('TP53MUT_cells_AUC_DepmapID.xlsx')"
   ]
  },
  {
   "cell_type": "code",
   "execution_count": 27,
   "id": "cfe5fe95",
   "metadata": {},
   "outputs": [
    {
     "data": {
      "text/html": [
       "<div>\n",
       "<style scoped>\n",
       "    .dataframe tbody tr th:only-of-type {\n",
       "        vertical-align: middle;\n",
       "    }\n",
       "\n",
       "    .dataframe tbody tr th {\n",
       "        vertical-align: top;\n",
       "    }\n",
       "\n",
       "    .dataframe thead th {\n",
       "        text-align: right;\n",
       "    }\n",
       "</style>\n",
       "<table border=\"1\" class=\"dataframe\">\n",
       "  <thead>\n",
       "    <tr style=\"text-align: right;\">\n",
       "      <th></th>\n",
       "      <th>Cell name</th>\n",
       "      <th>Depmap ID</th>\n",
       "      <th>AUC, DEG-35</th>\n",
       "      <th>AUC, DEG-35 sigfig 4</th>\n",
       "    </tr>\n",
       "  </thead>\n",
       "  <tbody>\n",
       "    <tr>\n",
       "      <th>0</th>\n",
       "      <td>2313287</td>\n",
       "      <td>ACH-000948</td>\n",
       "      <td>0.362258</td>\n",
       "      <td>0.3623</td>\n",
       "    </tr>\n",
       "    <tr>\n",
       "      <th>1</th>\n",
       "      <td>253J</td>\n",
       "      <td>ACH-000011</td>\n",
       "      <td>0.811752</td>\n",
       "      <td>0.8118</td>\n",
       "    </tr>\n",
       "    <tr>\n",
       "      <th>2</th>\n",
       "      <td>253JBV</td>\n",
       "      <td>ACH-000026</td>\n",
       "      <td>0.713113</td>\n",
       "      <td>0.7131</td>\n",
       "    </tr>\n",
       "    <tr>\n",
       "      <th>3</th>\n",
       "      <td>697</td>\n",
       "      <td>ACH-000070</td>\n",
       "      <td>0.549193</td>\n",
       "      <td>0.5492</td>\n",
       "    </tr>\n",
       "    <tr>\n",
       "      <th>4</th>\n",
       "      <td>769P</td>\n",
       "      <td>ACH-000411</td>\n",
       "      <td>0.539455</td>\n",
       "      <td>0.5395</td>\n",
       "    </tr>\n",
       "  </tbody>\n",
       "</table>\n",
       "</div>"
      ],
      "text/plain": [
       "  Cell name   Depmap ID  AUC, DEG-35  AUC, DEG-35 sigfig 4\n",
       "0   2313287  ACH-000948     0.362258                0.3623\n",
       "1      253J  ACH-000011     0.811752                0.8118\n",
       "2    253JBV  ACH-000026     0.713113                0.7131\n",
       "3       697  ACH-000070     0.549193                0.5492\n",
       "4      769P  ACH-000411     0.539455                0.5395"
      ]
     },
     "execution_count": 27,
     "metadata": {},
     "output_type": "execute_result"
    }
   ],
   "source": [
    "p53WT.head()"
   ]
  },
  {
   "cell_type": "code",
   "execution_count": 4,
   "id": "c6a6c047",
   "metadata": {},
   "outputs": [
    {
     "data": {
      "text/html": [
       "<div>\n",
       "<style scoped>\n",
       "    .dataframe tbody tr th:only-of-type {\n",
       "        vertical-align: middle;\n",
       "    }\n",
       "\n",
       "    .dataframe tbody tr th {\n",
       "        vertical-align: top;\n",
       "    }\n",
       "\n",
       "    .dataframe thead th {\n",
       "        text-align: right;\n",
       "    }\n",
       "</style>\n",
       "<table border=\"1\" class=\"dataframe\">\n",
       "  <thead>\n",
       "    <tr style=\"text-align: right;\">\n",
       "      <th></th>\n",
       "      <th>Unnamed: 0</th>\n",
       "      <th>HugoSymbol</th>\n",
       "      <th>Mean AUC_WT</th>\n",
       "      <th>Cell names_WT</th>\n",
       "      <th>AUC values_WT</th>\n",
       "      <th>Mean AUC_MT</th>\n",
       "      <th>Cell names_MT</th>\n",
       "      <th>HgncName</th>\n",
       "      <th>AUC values_MT</th>\n",
       "      <th>AUC_difference_MT-WT</th>\n",
       "    </tr>\n",
       "  </thead>\n",
       "  <tbody>\n",
       "    <tr>\n",
       "      <th>0</th>\n",
       "      <td>0</td>\n",
       "      <td>A1BG</td>\n",
       "      <td>0.747705</td>\n",
       "      <td>OVTOKO, NCIH28, SNB75, G402, LAMA84, RD, WM983...</td>\n",
       "      <td>[0.738025461647376, 0.543823949372426, 0.81175...</td>\n",
       "      <td>0.725997</td>\n",
       "      <td>NCIH1435, MFE319, WM2664, HT115, KYSE450, HGC2...</td>\n",
       "      <td>alpha-1-B glycoprotein</td>\n",
       "      <td>[0.690339204747059, 0.914688944108179, 0.62588...</td>\n",
       "      <td>-0.021709</td>\n",
       "    </tr>\n",
       "    <tr>\n",
       "      <th>1</th>\n",
       "      <td>1</td>\n",
       "      <td>A1CF</td>\n",
       "      <td>0.749348</td>\n",
       "      <td>OVTOKO, NCIH28, SNB75, G402, LAMA84, RD, WM983...</td>\n",
       "      <td>[0.738025461647376, 0.811752287495537, 0.71311...</td>\n",
       "      <td>0.698158</td>\n",
       "      <td>22RV1, AN3CA, HT115, NCIH650, NCIH1092, KATOII...</td>\n",
       "      <td>APOBEC1 complementation factor</td>\n",
       "      <td>[0.543823949372426, 0.705741491202442, 0.69131...</td>\n",
       "      <td>-0.051189</td>\n",
       "    </tr>\n",
       "    <tr>\n",
       "      <th>2</th>\n",
       "      <td>2</td>\n",
       "      <td>A2M</td>\n",
       "      <td>0.749883</td>\n",
       "      <td>OVTOKO, NCIH28, SNB75, G402, LAMA84, RD, WM983...</td>\n",
       "      <td>[0.738025461647376, 0.543823949372426, 0.81175...</td>\n",
       "      <td>0.671580</td>\n",
       "      <td>LS180, NCIH1435, MFE319, AN3CA, RKO, GP2D, GP2...</td>\n",
       "      <td>alpha-2-macroglobulin</td>\n",
       "      <td>[0.803290432659885, 0.834731912055259, 0.80416...</td>\n",
       "      <td>-0.078303</td>\n",
       "    </tr>\n",
       "    <tr>\n",
       "      <th>3</th>\n",
       "      <td>3</td>\n",
       "      <td>A2ML1</td>\n",
       "      <td>0.749294</td>\n",
       "      <td>OVTOKO, NCIH28, G402, LAMA84, RD, WM983B, NCIN...</td>\n",
       "      <td>[0.738025461647376, 0.811752287495537, 0.71311...</td>\n",
       "      <td>0.715021</td>\n",
       "      <td>22RV1, HEC1A, NCIH1435, WM2664, WM2664, VMCUB1...</td>\n",
       "      <td>alpha-2-macroglobulin like 1</td>\n",
       "      <td>[0.543823949372426, 0.77116001889797, 0.849187...</td>\n",
       "      <td>-0.034273</td>\n",
       "    </tr>\n",
       "    <tr>\n",
       "      <th>4</th>\n",
       "      <td>4</td>\n",
       "      <td>A3GALT2</td>\n",
       "      <td>0.746512</td>\n",
       "      <td>OVTOKO, NCIH28, SNB75, G402, LAMA84, RD, WM983...</td>\n",
       "      <td>[0.738025461647376, 0.543823949372426, 0.81175...</td>\n",
       "      <td>0.772726</td>\n",
       "      <td>SNU407, LS180, MFE296, MFE319, SNUC2A, KYSE450...</td>\n",
       "      <td>alpha 1%3B3-galactosyltransferase 2</td>\n",
       "      <td>[0.809228736277344, 0.73658900825747, 0.845666...</td>\n",
       "      <td>0.026214</td>\n",
       "    </tr>\n",
       "  </tbody>\n",
       "</table>\n",
       "</div>"
      ],
      "text/plain": [
       "   Unnamed: 0 HugoSymbol  Mean AUC_WT  \\\n",
       "0           0       A1BG     0.747705   \n",
       "1           1       A1CF     0.749348   \n",
       "2           2        A2M     0.749883   \n",
       "3           3      A2ML1     0.749294   \n",
       "4           4    A3GALT2     0.746512   \n",
       "\n",
       "                                       Cell names_WT  \\\n",
       "0  OVTOKO, NCIH28, SNB75, G402, LAMA84, RD, WM983...   \n",
       "1  OVTOKO, NCIH28, SNB75, G402, LAMA84, RD, WM983...   \n",
       "2  OVTOKO, NCIH28, SNB75, G402, LAMA84, RD, WM983...   \n",
       "3  OVTOKO, NCIH28, G402, LAMA84, RD, WM983B, NCIN...   \n",
       "4  OVTOKO, NCIH28, SNB75, G402, LAMA84, RD, WM983...   \n",
       "\n",
       "                                       AUC values_WT  Mean AUC_MT  \\\n",
       "0  [0.738025461647376, 0.543823949372426, 0.81175...     0.725997   \n",
       "1  [0.738025461647376, 0.811752287495537, 0.71311...     0.698158   \n",
       "2  [0.738025461647376, 0.543823949372426, 0.81175...     0.671580   \n",
       "3  [0.738025461647376, 0.811752287495537, 0.71311...     0.715021   \n",
       "4  [0.738025461647376, 0.543823949372426, 0.81175...     0.772726   \n",
       "\n",
       "                                       Cell names_MT  \\\n",
       "0  NCIH1435, MFE319, WM2664, HT115, KYSE450, HGC2...   \n",
       "1  22RV1, AN3CA, HT115, NCIH650, NCIH1092, KATOII...   \n",
       "2  LS180, NCIH1435, MFE319, AN3CA, RKO, GP2D, GP2...   \n",
       "3  22RV1, HEC1A, NCIH1435, WM2664, WM2664, VMCUB1...   \n",
       "4  SNU407, LS180, MFE296, MFE319, SNUC2A, KYSE450...   \n",
       "\n",
       "                              HgncName  \\\n",
       "0               alpha-1-B glycoprotein   \n",
       "1       APOBEC1 complementation factor   \n",
       "2                alpha-2-macroglobulin   \n",
       "3         alpha-2-macroglobulin like 1   \n",
       "4  alpha 1%3B3-galactosyltransferase 2   \n",
       "\n",
       "                                       AUC values_MT  AUC_difference_MT-WT  \n",
       "0  [0.690339204747059, 0.914688944108179, 0.62588...             -0.021709  \n",
       "1  [0.543823949372426, 0.705741491202442, 0.69131...             -0.051189  \n",
       "2  [0.803290432659885, 0.834731912055259, 0.80416...             -0.078303  \n",
       "3  [0.543823949372426, 0.77116001889797, 0.849187...             -0.034273  \n",
       "4  [0.809228736277344, 0.73658900825747, 0.845666...              0.026214  "
      ]
     },
     "execution_count": 4,
     "metadata": {},
     "output_type": "execute_result"
    }
   ],
   "source": [
    "MT_genes.head()"
   ]
  },
  {
   "cell_type": "code",
   "execution_count": 5,
   "id": "242ee471",
   "metadata": {},
   "outputs": [
    {
     "data": {
      "text/html": [
       "<div>\n",
       "<style scoped>\n",
       "    .dataframe tbody tr th:only-of-type {\n",
       "        vertical-align: middle;\n",
       "    }\n",
       "\n",
       "    .dataframe tbody tr th {\n",
       "        vertical-align: top;\n",
       "    }\n",
       "\n",
       "    .dataframe thead th {\n",
       "        text-align: right;\n",
       "    }\n",
       "</style>\n",
       "<table border=\"1\" class=\"dataframe\">\n",
       "  <thead>\n",
       "    <tr style=\"text-align: right;\">\n",
       "      <th></th>\n",
       "      <th>Unnamed: 0</th>\n",
       "      <th>gene</th>\n",
       "      <th>Mean AUC_WT</th>\n",
       "      <th>Cell names_WT</th>\n",
       "      <th>AUC values_WT</th>\n",
       "      <th>Mean AUC_MT</th>\n",
       "      <th>Cell names_MT</th>\n",
       "      <th>HgncName</th>\n",
       "      <th>AUC values_MT</th>\n",
       "      <th>AUC_difference_MT-WT</th>\n",
       "    </tr>\n",
       "  </thead>\n",
       "  <tbody>\n",
       "    <tr>\n",
       "      <th>0</th>\n",
       "      <td>0</td>\n",
       "      <td>A1BG</td>\n",
       "      <td>0.747705</td>\n",
       "      <td>OVTOKO, NCIH28, SNB75, G402, LAMA84, RD, WM983...</td>\n",
       "      <td>[0.738025461647376, 0.543823949372426, 0.81175...</td>\n",
       "      <td>0.725997</td>\n",
       "      <td>NCIH1435, MFE319, WM2664, HT115, KYSE450, HGC2...</td>\n",
       "      <td>alpha-1-B glycoprotein</td>\n",
       "      <td>[0.690339204747059, 0.914688944108179, 0.62588...</td>\n",
       "      <td>-0.021709</td>\n",
       "    </tr>\n",
       "    <tr>\n",
       "      <th>1</th>\n",
       "      <td>1</td>\n",
       "      <td>A1CF</td>\n",
       "      <td>0.749348</td>\n",
       "      <td>OVTOKO, NCIH28, SNB75, G402, LAMA84, RD, WM983...</td>\n",
       "      <td>[0.738025461647376, 0.811752287495537, 0.71311...</td>\n",
       "      <td>0.698158</td>\n",
       "      <td>22RV1, AN3CA, HT115, NCIH650, NCIH1092, KATOII...</td>\n",
       "      <td>APOBEC1 complementation factor</td>\n",
       "      <td>[0.543823949372426, 0.705741491202442, 0.69131...</td>\n",
       "      <td>-0.051189</td>\n",
       "    </tr>\n",
       "    <tr>\n",
       "      <th>2</th>\n",
       "      <td>2</td>\n",
       "      <td>A2M</td>\n",
       "      <td>0.749883</td>\n",
       "      <td>OVTOKO, NCIH28, SNB75, G402, LAMA84, RD, WM983...</td>\n",
       "      <td>[0.738025461647376, 0.543823949372426, 0.81175...</td>\n",
       "      <td>0.671580</td>\n",
       "      <td>LS180, NCIH1435, MFE319, AN3CA, RKO, GP2D, GP2...</td>\n",
       "      <td>alpha-2-macroglobulin</td>\n",
       "      <td>[0.803290432659885, 0.834731912055259, 0.80416...</td>\n",
       "      <td>-0.078303</td>\n",
       "    </tr>\n",
       "    <tr>\n",
       "      <th>3</th>\n",
       "      <td>3</td>\n",
       "      <td>A2ML1</td>\n",
       "      <td>0.749294</td>\n",
       "      <td>OVTOKO, NCIH28, G402, LAMA84, RD, WM983B, NCIN...</td>\n",
       "      <td>[0.738025461647376, 0.811752287495537, 0.71311...</td>\n",
       "      <td>0.715021</td>\n",
       "      <td>22RV1, HEC1A, NCIH1435, WM2664, WM2664, VMCUB1...</td>\n",
       "      <td>alpha-2-macroglobulin like 1</td>\n",
       "      <td>[0.543823949372426, 0.77116001889797, 0.849187...</td>\n",
       "      <td>-0.034273</td>\n",
       "    </tr>\n",
       "    <tr>\n",
       "      <th>4</th>\n",
       "      <td>4</td>\n",
       "      <td>A3GALT2</td>\n",
       "      <td>0.746512</td>\n",
       "      <td>OVTOKO, NCIH28, SNB75, G402, LAMA84, RD, WM983...</td>\n",
       "      <td>[0.738025461647376, 0.543823949372426, 0.81175...</td>\n",
       "      <td>0.772726</td>\n",
       "      <td>SNU407, LS180, MFE296, MFE319, SNUC2A, KYSE450...</td>\n",
       "      <td>alpha 1%3B3-galactosyltransferase 2</td>\n",
       "      <td>[0.809228736277344, 0.73658900825747, 0.845666...</td>\n",
       "      <td>0.026214</td>\n",
       "    </tr>\n",
       "  </tbody>\n",
       "</table>\n",
       "</div>"
      ],
      "text/plain": [
       "   Unnamed: 0     gene  Mean AUC_WT  \\\n",
       "0           0     A1BG     0.747705   \n",
       "1           1     A1CF     0.749348   \n",
       "2           2      A2M     0.749883   \n",
       "3           3    A2ML1     0.749294   \n",
       "4           4  A3GALT2     0.746512   \n",
       "\n",
       "                                       Cell names_WT  \\\n",
       "0  OVTOKO, NCIH28, SNB75, G402, LAMA84, RD, WM983...   \n",
       "1  OVTOKO, NCIH28, SNB75, G402, LAMA84, RD, WM983...   \n",
       "2  OVTOKO, NCIH28, SNB75, G402, LAMA84, RD, WM983...   \n",
       "3  OVTOKO, NCIH28, G402, LAMA84, RD, WM983B, NCIN...   \n",
       "4  OVTOKO, NCIH28, SNB75, G402, LAMA84, RD, WM983...   \n",
       "\n",
       "                                       AUC values_WT  Mean AUC_MT  \\\n",
       "0  [0.738025461647376, 0.543823949372426, 0.81175...     0.725997   \n",
       "1  [0.738025461647376, 0.811752287495537, 0.71311...     0.698158   \n",
       "2  [0.738025461647376, 0.543823949372426, 0.81175...     0.671580   \n",
       "3  [0.738025461647376, 0.811752287495537, 0.71311...     0.715021   \n",
       "4  [0.738025461647376, 0.543823949372426, 0.81175...     0.772726   \n",
       "\n",
       "                                       Cell names_MT  \\\n",
       "0  NCIH1435, MFE319, WM2664, HT115, KYSE450, HGC2...   \n",
       "1  22RV1, AN3CA, HT115, NCIH650, NCIH1092, KATOII...   \n",
       "2  LS180, NCIH1435, MFE319, AN3CA, RKO, GP2D, GP2...   \n",
       "3  22RV1, HEC1A, NCIH1435, WM2664, WM2664, VMCUB1...   \n",
       "4  SNU407, LS180, MFE296, MFE319, SNUC2A, KYSE450...   \n",
       "\n",
       "                              HgncName  \\\n",
       "0               alpha-1-B glycoprotein   \n",
       "1       APOBEC1 complementation factor   \n",
       "2                alpha-2-macroglobulin   \n",
       "3         alpha-2-macroglobulin like 1   \n",
       "4  alpha 1%3B3-galactosyltransferase 2   \n",
       "\n",
       "                                       AUC values_MT  AUC_difference_MT-WT  \n",
       "0  [0.690339204747059, 0.914688944108179, 0.62588...             -0.021709  \n",
       "1  [0.543823949372426, 0.705741491202442, 0.69131...             -0.051189  \n",
       "2  [0.803290432659885, 0.834731912055259, 0.80416...             -0.078303  \n",
       "3  [0.543823949372426, 0.77116001889797, 0.849187...             -0.034273  \n",
       "4  [0.809228736277344, 0.73658900825747, 0.845666...              0.026214  "
      ]
     },
     "execution_count": 5,
     "metadata": {},
     "output_type": "execute_result"
    }
   ],
   "source": [
    "MT_genes = MT_genes.rename(columns={'HugoSymbol':'gene'})\n",
    "MT_genes.head()"
   ]
  },
  {
   "cell_type": "code",
   "execution_count": 14,
   "id": "48f7094e",
   "metadata": {},
   "outputs": [
    {
     "data": {
      "text/html": [
       "<div>\n",
       "<style scoped>\n",
       "    .dataframe tbody tr th:only-of-type {\n",
       "        vertical-align: middle;\n",
       "    }\n",
       "\n",
       "    .dataframe tbody tr th {\n",
       "        vertical-align: top;\n",
       "    }\n",
       "\n",
       "    .dataframe thead th {\n",
       "        text-align: right;\n",
       "    }\n",
       "</style>\n",
       "<table border=\"1\" class=\"dataframe\">\n",
       "  <thead>\n",
       "    <tr style=\"text-align: right;\">\n",
       "      <th></th>\n",
       "      <th>Unnamed: 0</th>\n",
       "      <th>gene</th>\n",
       "      <th>Mean AUC_WT</th>\n",
       "      <th>Cell names_WT</th>\n",
       "      <th>AUC values_WT</th>\n",
       "      <th>Mean AUC_MT</th>\n",
       "      <th>Cell names_MT</th>\n",
       "      <th>HgncName</th>\n",
       "      <th>AUC values_MT</th>\n",
       "      <th>AUC_difference_MT-WT</th>\n",
       "    </tr>\n",
       "  </thead>\n",
       "  <tbody>\n",
       "    <tr>\n",
       "      <th>0</th>\n",
       "      <td>204</td>\n",
       "      <td>ACTL6A</td>\n",
       "      <td>0.747175</td>\n",
       "      <td>OVTOKO, NCIH28, SNB75, G402, LAMA84, RD, WM983...</td>\n",
       "      <td>[0.738025461647376, 0.543823949372426, 0.81175...</td>\n",
       "      <td>0.746640</td>\n",
       "      <td>HCT116, RKO, ESS1, SUDHL1, HEC151, CHL1</td>\n",
       "      <td>actin like 6A</td>\n",
       "      <td>[0.699437422980904, 0.724396162194618, 0.85291...</td>\n",
       "      <td>-0.000535</td>\n",
       "    </tr>\n",
       "    <tr>\n",
       "      <th>1</th>\n",
       "      <td>205</td>\n",
       "      <td>ACTL6B</td>\n",
       "      <td>0.749048</td>\n",
       "      <td>OVTOKO, NCIH28, SNB75, G402, LAMA84, RD, WM983...</td>\n",
       "      <td>[0.738025461647376, 0.811752287495537, 0.71311...</td>\n",
       "      <td>0.659995</td>\n",
       "      <td>22RV1, AN3CA, RKO, PLCPRF5, GP2D, HCC1359, HCC...</td>\n",
       "      <td>actin like 6B</td>\n",
       "      <td>[0.543823949372426, 0.803290432659885, 0.36062...</td>\n",
       "      <td>-0.089053</td>\n",
       "    </tr>\n",
       "    <tr>\n",
       "      <th>2</th>\n",
       "      <td>974</td>\n",
       "      <td>ARID1A</td>\n",
       "      <td>0.760694</td>\n",
       "      <td>NCIH28, SNB75, G402, LAMA84, RD, WM983B, NCIN8...</td>\n",
       "      <td>[0.738025461647376, 0.811752287495537, 0.71311...</td>\n",
       "      <td>0.682609</td>\n",
       "      <td>22RV1, ONS76, LK2, NUGC3, IGROV1, IGROV1, HEC1...</td>\n",
       "      <td>AT-rich interaction domain 1A</td>\n",
       "      <td>[0.543823949372426, 0.77116001889797, 0.309933...</td>\n",
       "      <td>-0.078085</td>\n",
       "    </tr>\n",
       "    <tr>\n",
       "      <th>3</th>\n",
       "      <td>975</td>\n",
       "      <td>ARID1B</td>\n",
       "      <td>0.752563</td>\n",
       "      <td>OVTOKO, NCIH28, G402, LAMA84, RD, WM983B, NCIN...</td>\n",
       "      <td>[0.738025461647376, 0.543823949372426, 0.81175...</td>\n",
       "      <td>0.702399</td>\n",
       "      <td>HEC1A, HEC1A, HEC1A, SNU407, SNU407, RL952, RL...</td>\n",
       "      <td>AT-rich interaction domain 1B</td>\n",
       "      <td>[0.556359438090838, 0.309933260681286, 0.84918...</td>\n",
       "      <td>-0.050165</td>\n",
       "    </tr>\n",
       "    <tr>\n",
       "      <th>4</th>\n",
       "      <td>976</td>\n",
       "      <td>ARID2</td>\n",
       "      <td>0.748226</td>\n",
       "      <td>OVTOKO, NCIH28, G402, LAMA84, RD, WM983B, NCIN...</td>\n",
       "      <td>[0.738025461647376, 0.543823949372426, 0.81175...</td>\n",
       "      <td>0.727182</td>\n",
       "      <td>NUGC3, HEC1A, SNU407, SNU407, RL952, CCK81, SN...</td>\n",
       "      <td>AT-rich interaction domain 2</td>\n",
       "      <td>[0.776396440938739, 0.691311315078145, 0.80329...</td>\n",
       "      <td>-0.021045</td>\n",
       "    </tr>\n",
       "  </tbody>\n",
       "</table>\n",
       "</div>"
      ],
      "text/plain": [
       "   Unnamed: 0    gene  Mean AUC_WT  \\\n",
       "0         204  ACTL6A     0.747175   \n",
       "1         205  ACTL6B     0.749048   \n",
       "2         974  ARID1A     0.760694   \n",
       "3         975  ARID1B     0.752563   \n",
       "4         976   ARID2     0.748226   \n",
       "\n",
       "                                       Cell names_WT  \\\n",
       "0  OVTOKO, NCIH28, SNB75, G402, LAMA84, RD, WM983...   \n",
       "1  OVTOKO, NCIH28, SNB75, G402, LAMA84, RD, WM983...   \n",
       "2  NCIH28, SNB75, G402, LAMA84, RD, WM983B, NCIN8...   \n",
       "3  OVTOKO, NCIH28, G402, LAMA84, RD, WM983B, NCIN...   \n",
       "4  OVTOKO, NCIH28, G402, LAMA84, RD, WM983B, NCIN...   \n",
       "\n",
       "                                       AUC values_WT  Mean AUC_MT  \\\n",
       "0  [0.738025461647376, 0.543823949372426, 0.81175...     0.746640   \n",
       "1  [0.738025461647376, 0.811752287495537, 0.71311...     0.659995   \n",
       "2  [0.738025461647376, 0.811752287495537, 0.71311...     0.682609   \n",
       "3  [0.738025461647376, 0.543823949372426, 0.81175...     0.702399   \n",
       "4  [0.738025461647376, 0.543823949372426, 0.81175...     0.727182   \n",
       "\n",
       "                                       Cell names_MT  \\\n",
       "0            HCT116, RKO, ESS1, SUDHL1, HEC151, CHL1   \n",
       "1  22RV1, AN3CA, RKO, PLCPRF5, GP2D, HCC1359, HCC...   \n",
       "2  22RV1, ONS76, LK2, NUGC3, IGROV1, IGROV1, HEC1...   \n",
       "3  HEC1A, HEC1A, HEC1A, SNU407, SNU407, RL952, RL...   \n",
       "4  NUGC3, HEC1A, SNU407, SNU407, RL952, CCK81, SN...   \n",
       "\n",
       "                        HgncName  \\\n",
       "0                  actin like 6A   \n",
       "1                  actin like 6B   \n",
       "2  AT-rich interaction domain 1A   \n",
       "3  AT-rich interaction domain 1B   \n",
       "4   AT-rich interaction domain 2   \n",
       "\n",
       "                                       AUC values_MT  AUC_difference_MT-WT  \n",
       "0  [0.699437422980904, 0.724396162194618, 0.85291...             -0.000535  \n",
       "1  [0.543823949372426, 0.803290432659885, 0.36062...             -0.089053  \n",
       "2  [0.543823949372426, 0.77116001889797, 0.309933...             -0.078085  \n",
       "3  [0.556359438090838, 0.309933260681286, 0.84918...             -0.050165  \n",
       "4  [0.776396440938739, 0.691311315078145, 0.80329...             -0.021045  "
      ]
     },
     "execution_count": 14,
     "metadata": {},
     "output_type": "execute_result"
    }
   ],
   "source": [
    "BAF_loss = pd.merge(MT_genes, BAF_genes, on = 'gene', how = 'inner')\n",
    "BAF_loss.head()"
   ]
  },
  {
   "cell_type": "code",
   "execution_count": 23,
   "id": "91923d1d",
   "metadata": {},
   "outputs": [],
   "source": [
    "# Step 1: Split the comma-separated cell names and flatten the list\n",
    "all_cell_names = [cell.strip() for sublist in BAF_loss['Cell names_MT'] for cell in sublist.split(',')]\n",
    "\n",
    "# Step 2: Extract unique cell names\n",
    "unique_cell_names = list(set(all_cell_names))\n",
    "\n",
    "# Step 3: Convert the list of unique cell names into a DataFrame with header \"CellName\"\n",
    "BAF_loss_cells = pd.DataFrame(unique_cell_names, columns=['Cell name'])"
   ]
  },
  {
   "cell_type": "code",
   "execution_count": 24,
   "id": "7b37df46",
   "metadata": {},
   "outputs": [
    {
     "data": {
      "text/html": [
       "<div>\n",
       "<style scoped>\n",
       "    .dataframe tbody tr th:only-of-type {\n",
       "        vertical-align: middle;\n",
       "    }\n",
       "\n",
       "    .dataframe tbody tr th {\n",
       "        vertical-align: top;\n",
       "    }\n",
       "\n",
       "    .dataframe thead th {\n",
       "        text-align: right;\n",
       "    }\n",
       "</style>\n",
       "<table border=\"1\" class=\"dataframe\">\n",
       "  <thead>\n",
       "    <tr style=\"text-align: right;\">\n",
       "      <th></th>\n",
       "      <th>Cell name</th>\n",
       "    </tr>\n",
       "  </thead>\n",
       "  <tbody>\n",
       "    <tr>\n",
       "      <th>0</th>\n",
       "      <td>NCIH460</td>\n",
       "    </tr>\n",
       "    <tr>\n",
       "      <th>1</th>\n",
       "      <td>HARA</td>\n",
       "    </tr>\n",
       "    <tr>\n",
       "      <th>2</th>\n",
       "      <td>EB1</td>\n",
       "    </tr>\n",
       "    <tr>\n",
       "      <th>3</th>\n",
       "      <td>MEWO</td>\n",
       "    </tr>\n",
       "    <tr>\n",
       "      <th>4</th>\n",
       "      <td>NCIH522</td>\n",
       "    </tr>\n",
       "  </tbody>\n",
       "</table>\n",
       "</div>"
      ],
      "text/plain": [
       "  Cell name\n",
       "0   NCIH460\n",
       "1      HARA\n",
       "2       EB1\n",
       "3      MEWO\n",
       "4   NCIH522"
      ]
     },
     "execution_count": 24,
     "metadata": {},
     "output_type": "execute_result"
    }
   ],
   "source": [
    "BAF_loss_cells.head()"
   ]
  },
  {
   "cell_type": "code",
   "execution_count": 17,
   "id": "73b4c76e",
   "metadata": {},
   "outputs": [
    {
     "name": "stdout",
     "output_type": "stream",
     "text": [
      "265\n"
     ]
    }
   ],
   "source": [
    "print(len(BAF_loss_cells))"
   ]
  },
  {
   "cell_type": "code",
   "execution_count": 18,
   "id": "945260ea",
   "metadata": {},
   "outputs": [],
   "source": [
    "BAF_loss.to_excel('BAF_loss_MTvsWT.xlsx')"
   ]
  },
  {
   "cell_type": "code",
   "execution_count": 19,
   "id": "dc8beedf",
   "metadata": {},
   "outputs": [],
   "source": [
    "DRC_table = pd.read_excel('DRCtableAUC_merge_DepmapID.xlsx')"
   ]
  },
  {
   "cell_type": "code",
   "execution_count": 38,
   "id": "b65b7c55",
   "metadata": {},
   "outputs": [
    {
     "name": "stdout",
     "output_type": "stream",
     "text": [
      "567\n"
     ]
    }
   ],
   "source": [
    "DRC_table.head()\n"
   ]
  },
  {
   "cell_type": "code",
   "execution_count": 25,
   "id": "b4ff24ac",
   "metadata": {},
   "outputs": [
    {
     "data": {
      "text/html": [
       "<div>\n",
       "<style scoped>\n",
       "    .dataframe tbody tr th:only-of-type {\n",
       "        vertical-align: middle;\n",
       "    }\n",
       "\n",
       "    .dataframe tbody tr th {\n",
       "        vertical-align: top;\n",
       "    }\n",
       "\n",
       "    .dataframe thead th {\n",
       "        text-align: right;\n",
       "    }\n",
       "</style>\n",
       "<table border=\"1\" class=\"dataframe\">\n",
       "  <thead>\n",
       "    <tr style=\"text-align: right;\">\n",
       "      <th></th>\n",
       "      <th>Cell name</th>\n",
       "      <th>Depmap ID</th>\n",
       "      <th>AUC, DEG-35</th>\n",
       "      <th>AUC, DEG-35 sigfig 4</th>\n",
       "    </tr>\n",
       "  </thead>\n",
       "  <tbody>\n",
       "    <tr>\n",
       "      <th>0</th>\n",
       "      <td>22RV1</td>\n",
       "      <td>ACH-000956</td>\n",
       "      <td>0.543824</td>\n",
       "      <td>0.5438</td>\n",
       "    </tr>\n",
       "    <tr>\n",
       "      <th>1</th>\n",
       "      <td>253J</td>\n",
       "      <td>ACH-000011</td>\n",
       "      <td>0.811752</td>\n",
       "      <td>0.8118</td>\n",
       "    </tr>\n",
       "    <tr>\n",
       "      <th>2</th>\n",
       "      <td>253JBV</td>\n",
       "      <td>ACH-000026</td>\n",
       "      <td>0.713113</td>\n",
       "      <td>0.7131</td>\n",
       "    </tr>\n",
       "    <tr>\n",
       "      <th>3</th>\n",
       "      <td>42MGBA</td>\n",
       "      <td>ACH-000323</td>\n",
       "      <td>0.776396</td>\n",
       "      <td>0.7764</td>\n",
       "    </tr>\n",
       "    <tr>\n",
       "      <th>4</th>\n",
       "      <td>639V</td>\n",
       "      <td>ACH-000973</td>\n",
       "      <td>0.771160</td>\n",
       "      <td>0.7712</td>\n",
       "    </tr>\n",
       "  </tbody>\n",
       "</table>\n",
       "</div>"
      ],
      "text/plain": [
       "  Cell name   Depmap ID  AUC, DEG-35  AUC, DEG-35 sigfig 4\n",
       "0     22RV1  ACH-000956     0.543824                0.5438\n",
       "1      253J  ACH-000011     0.811752                0.8118\n",
       "2    253JBV  ACH-000026     0.713113                0.7131\n",
       "3    42MGBA  ACH-000323     0.776396                0.7764\n",
       "4      639V  ACH-000973     0.771160                0.7712"
      ]
     },
     "execution_count": 25,
     "metadata": {},
     "output_type": "execute_result"
    }
   ],
   "source": [
    "DRC_BAF_loss = pd.merge(DRC_table,BAF_loss_cells, on = 'Cell name', how = 'inner')\n",
    "DRC_BAF_loss.head()"
   ]
  },
  {
   "cell_type": "code",
   "execution_count": 39,
   "id": "072a57df",
   "metadata": {},
   "outputs": [
    {
     "name": "stdout",
     "output_type": "stream",
     "text": [
      "263\n"
     ]
    }
   ],
   "source": [
    "print(len(DRC_BAF_loss))"
   ]
  },
  {
   "cell_type": "code",
   "execution_count": 26,
   "id": "55a42971",
   "metadata": {},
   "outputs": [],
   "source": [
    "DRC_BAF_loss.to_excel('DRCtable_BAF_loss_ALLCELLS.xlsx')"
   ]
  },
  {
   "cell_type": "code",
   "execution_count": 28,
   "id": "4ea803c1",
   "metadata": {},
   "outputs": [],
   "source": [
    "DRC_BAF_loss_p53WT = pd.merge(p53WT, BAF_loss_cells, on = 'Cell name', how = 'inner')\n",
    "DRC_BAF_loss_p53WT.to_excel('DRCtable_BAF_loss_p53WTcells.xlsx')\n",
    "\n",
    "DRC_BAF_loss_p53MUT = pd.merge(p53MUT, BAF_loss_cells, on = 'Cell name', how = 'inner')\n",
    "DRC_BAF_loss_p53MUT.to_excel('DRCtable_BAF_loss_p53MUTcells.xlsx')"
   ]
  },
  {
   "cell_type": "code",
   "execution_count": 43,
   "id": "3868b13c",
   "metadata": {},
   "outputs": [
    {
     "name": "stdout",
     "output_type": "stream",
     "text": [
      "86\n"
     ]
    }
   ],
   "source": [
    "print(len(DRC_BAF_loss_p53WT))"
   ]
  },
  {
   "cell_type": "code",
   "execution_count": 44,
   "id": "7ca0af13",
   "metadata": {},
   "outputs": [
    {
     "name": "stdout",
     "output_type": "stream",
     "text": [
      "177\n"
     ]
    }
   ],
   "source": [
    "print(len(DRC_BAF_loss_p53MUT))"
   ]
  },
  {
   "cell_type": "code",
   "execution_count": 29,
   "id": "3aadfb79",
   "metadata": {},
   "outputs": [
    {
     "data": {
      "text/html": [
       "<div>\n",
       "<style scoped>\n",
       "    .dataframe tbody tr th:only-of-type {\n",
       "        vertical-align: middle;\n",
       "    }\n",
       "\n",
       "    .dataframe tbody tr th {\n",
       "        vertical-align: top;\n",
       "    }\n",
       "\n",
       "    .dataframe thead th {\n",
       "        text-align: right;\n",
       "    }\n",
       "</style>\n",
       "<table border=\"1\" class=\"dataframe\">\n",
       "  <thead>\n",
       "    <tr style=\"text-align: right;\">\n",
       "      <th></th>\n",
       "      <th>gene</th>\n",
       "      <th>q</th>\n",
       "      <th>-log10q</th>\n",
       "      <th>annotated_functions</th>\n",
       "    </tr>\n",
       "  </thead>\n",
       "  <tbody>\n",
       "    <tr>\n",
       "      <th>0</th>\n",
       "      <td>RAPGEF6</td>\n",
       "      <td>0.009230</td>\n",
       "      <td>2.034796</td>\n",
       "      <td>GTPase binding;protein binding</td>\n",
       "    </tr>\n",
       "    <tr>\n",
       "      <th>1</th>\n",
       "      <td>CHD2</td>\n",
       "      <td>0.009230</td>\n",
       "      <td>2.034796</td>\n",
       "      <td>RNA binding</td>\n",
       "    </tr>\n",
       "    <tr>\n",
       "      <th>2</th>\n",
       "      <td>EHMT1</td>\n",
       "      <td>0.009230</td>\n",
       "      <td>2.034796</td>\n",
       "      <td>methyltransferase;protein binding</td>\n",
       "    </tr>\n",
       "    <tr>\n",
       "      <th>3</th>\n",
       "      <td>PHLDB1</td>\n",
       "      <td>0.044690</td>\n",
       "      <td>1.349793</td>\n",
       "      <td>NaN</td>\n",
       "    </tr>\n",
       "    <tr>\n",
       "      <th>4</th>\n",
       "      <td>SERPINA7</td>\n",
       "      <td>0.046533</td>\n",
       "      <td>1.332239</td>\n",
       "      <td>NaN</td>\n",
       "    </tr>\n",
       "  </tbody>\n",
       "</table>\n",
       "</div>"
      ],
      "text/plain": [
       "       gene         q   -log10q                annotated_functions\n",
       "0   RAPGEF6  0.009230  2.034796     GTPase binding;protein binding\n",
       "1      CHD2  0.009230  2.034796                        RNA binding\n",
       "2     EHMT1  0.009230  2.034796  methyltransferase;protein binding\n",
       "3    PHLDB1  0.044690  1.349793                                NaN\n",
       "4  SERPINA7  0.046533  1.332239                                NaN"
      ]
     },
     "execution_count": 29,
     "metadata": {},
     "output_type": "execute_result"
    }
   ],
   "source": [
    "BAF_losslike_genes.head()"
   ]
  },
  {
   "cell_type": "code",
   "execution_count": 30,
   "id": "6aa57efb",
   "metadata": {},
   "outputs": [
    {
     "data": {
      "text/html": [
       "<div>\n",
       "<style scoped>\n",
       "    .dataframe tbody tr th:only-of-type {\n",
       "        vertical-align: middle;\n",
       "    }\n",
       "\n",
       "    .dataframe tbody tr th {\n",
       "        vertical-align: top;\n",
       "    }\n",
       "\n",
       "    .dataframe thead th {\n",
       "        text-align: right;\n",
       "    }\n",
       "</style>\n",
       "<table border=\"1\" class=\"dataframe\">\n",
       "  <thead>\n",
       "    <tr style=\"text-align: right;\">\n",
       "      <th></th>\n",
       "      <th>Unnamed: 0</th>\n",
       "      <th>gene</th>\n",
       "      <th>Mean AUC_WT</th>\n",
       "      <th>Cell names_WT</th>\n",
       "      <th>AUC values_WT</th>\n",
       "      <th>Mean AUC_MT</th>\n",
       "      <th>Cell names_MT</th>\n",
       "      <th>HgncName</th>\n",
       "      <th>AUC values_MT</th>\n",
       "      <th>AUC_difference_MT-WT</th>\n",
       "      <th>q</th>\n",
       "      <th>-log10q</th>\n",
       "      <th>annotated_functions</th>\n",
       "    </tr>\n",
       "  </thead>\n",
       "  <tbody>\n",
       "    <tr>\n",
       "      <th>0</th>\n",
       "      <td>119</td>\n",
       "      <td>ACACB</td>\n",
       "      <td>0.753390</td>\n",
       "      <td>OVTOKO, NCIH28, SNB75, G402, LAMA84, RD, WM983...</td>\n",
       "      <td>[0.738025461647376, 0.811752287495537, 0.71311...</td>\n",
       "      <td>0.651706</td>\n",
       "      <td>22RV1, SW900, NUGC3, IGROV1, HEC1A, CCK81, MFE...</td>\n",
       "      <td>acetyl-CoA carboxylase beta</td>\n",
       "      <td>[0.543823949372426, 0.867995523789083, 0.72887...</td>\n",
       "      <td>-0.101684</td>\n",
       "      <td>0.056815</td>\n",
       "      <td>1.245538</td>\n",
       "      <td>protein binding</td>\n",
       "    </tr>\n",
       "    <tr>\n",
       "      <th>1</th>\n",
       "      <td>224</td>\n",
       "      <td>ACTRT2</td>\n",
       "      <td>0.747132</td>\n",
       "      <td>OVTOKO, NCIH28, SNB75, G402, LAMA84, RD, WM983...</td>\n",
       "      <td>[0.738025461647376, 0.811752287495537, 0.71311...</td>\n",
       "      <td>0.749247</td>\n",
       "      <td>22RV1, HT1376, AN3CA, NCIH650, GP2D, C32, HEC1...</td>\n",
       "      <td>actin related protein T2</td>\n",
       "      <td>[0.543823949372426, 0.691311315078145, 0.80329...</td>\n",
       "      <td>0.002115</td>\n",
       "      <td>0.062684</td>\n",
       "      <td>1.202841</td>\n",
       "      <td>protein binding;transcription factor</td>\n",
       "    </tr>\n",
       "    <tr>\n",
       "      <th>2</th>\n",
       "      <td>269</td>\n",
       "      <td>ADAMTS16</td>\n",
       "      <td>0.747586</td>\n",
       "      <td>OVTOKO, NCIH28, SNB75, G402, LAMA84, RD, WM983...</td>\n",
       "      <td>[0.738025461647376, 0.543823949372426, 0.81175...</td>\n",
       "      <td>0.745610</td>\n",
       "      <td>LK2, NUGC3, LS180, NCIH1435, MFE319, MFE319, T...</td>\n",
       "      <td>ADAM metallopeptidase with thrombospondin type...</td>\n",
       "      <td>[0.713112663181786, 0.71570980395205, 0.735791...</td>\n",
       "      <td>-0.001976</td>\n",
       "      <td>0.088372</td>\n",
       "      <td>1.053685</td>\n",
       "      <td>NaN</td>\n",
       "    </tr>\n",
       "    <tr>\n",
       "      <th>3</th>\n",
       "      <td>397</td>\n",
       "      <td>AFF2</td>\n",
       "      <td>0.748529</td>\n",
       "      <td>OVTOKO, NCIH28, SNB75, G402, LAMA84, RD, WM983...</td>\n",
       "      <td>[0.738025461647376, 0.543823949372426, 0.81175...</td>\n",
       "      <td>0.723940</td>\n",
       "      <td>RERFLCMS, RERFLCMS, ONS76, HEC1A, RL952, LS180...</td>\n",
       "      <td>AF4/FMR2 family member 2</td>\n",
       "      <td>[0.57006231679881, 0.735791317373497, 0.897499...</td>\n",
       "      <td>-0.024589</td>\n",
       "      <td>0.046533</td>\n",
       "      <td>1.332239</td>\n",
       "      <td>transcription factor</td>\n",
       "    </tr>\n",
       "    <tr>\n",
       "      <th>4</th>\n",
       "      <td>697</td>\n",
       "      <td>ANKRD30A</td>\n",
       "      <td>0.748094</td>\n",
       "      <td>OVTOKO, NCIH28, SNB75, G402, LAMA84, RD, WM983...</td>\n",
       "      <td>[0.738025461647376, 0.543823949372426, 0.81175...</td>\n",
       "      <td>0.742702</td>\n",
       "      <td>LK2, LS180, NCIH82, CAL51, HT115, RKO, NCIH650...</td>\n",
       "      <td>ankyrin repeat domain 30A</td>\n",
       "      <td>[0.961409579675241, 0.989801214599116, 0.43596...</td>\n",
       "      <td>-0.005392</td>\n",
       "      <td>0.062684</td>\n",
       "      <td>1.202841</td>\n",
       "      <td>NaN</td>\n",
       "    </tr>\n",
       "  </tbody>\n",
       "</table>\n",
       "</div>"
      ],
      "text/plain": [
       "   Unnamed: 0      gene  Mean AUC_WT  \\\n",
       "0         119     ACACB     0.753390   \n",
       "1         224    ACTRT2     0.747132   \n",
       "2         269  ADAMTS16     0.747586   \n",
       "3         397      AFF2     0.748529   \n",
       "4         697  ANKRD30A     0.748094   \n",
       "\n",
       "                                       Cell names_WT  \\\n",
       "0  OVTOKO, NCIH28, SNB75, G402, LAMA84, RD, WM983...   \n",
       "1  OVTOKO, NCIH28, SNB75, G402, LAMA84, RD, WM983...   \n",
       "2  OVTOKO, NCIH28, SNB75, G402, LAMA84, RD, WM983...   \n",
       "3  OVTOKO, NCIH28, SNB75, G402, LAMA84, RD, WM983...   \n",
       "4  OVTOKO, NCIH28, SNB75, G402, LAMA84, RD, WM983...   \n",
       "\n",
       "                                       AUC values_WT  Mean AUC_MT  \\\n",
       "0  [0.738025461647376, 0.811752287495537, 0.71311...     0.651706   \n",
       "1  [0.738025461647376, 0.811752287495537, 0.71311...     0.749247   \n",
       "2  [0.738025461647376, 0.543823949372426, 0.81175...     0.745610   \n",
       "3  [0.738025461647376, 0.543823949372426, 0.81175...     0.723940   \n",
       "4  [0.738025461647376, 0.543823949372426, 0.81175...     0.742702   \n",
       "\n",
       "                                       Cell names_MT  \\\n",
       "0  22RV1, SW900, NUGC3, IGROV1, HEC1A, CCK81, MFE...   \n",
       "1  22RV1, HT1376, AN3CA, NCIH650, GP2D, C32, HEC1...   \n",
       "2  LK2, NUGC3, LS180, NCIH1435, MFE319, MFE319, T...   \n",
       "3  RERFLCMS, RERFLCMS, ONS76, HEC1A, RL952, LS180...   \n",
       "4  LK2, LS180, NCIH82, CAL51, HT115, RKO, NCIH650...   \n",
       "\n",
       "                                            HgncName  \\\n",
       "0                        acetyl-CoA carboxylase beta   \n",
       "1                           actin related protein T2   \n",
       "2  ADAM metallopeptidase with thrombospondin type...   \n",
       "3                           AF4/FMR2 family member 2   \n",
       "4                          ankyrin repeat domain 30A   \n",
       "\n",
       "                                       AUC values_MT  AUC_difference_MT-WT  \\\n",
       "0  [0.543823949372426, 0.867995523789083, 0.72887...             -0.101684   \n",
       "1  [0.543823949372426, 0.691311315078145, 0.80329...              0.002115   \n",
       "2  [0.713112663181786, 0.71570980395205, 0.735791...             -0.001976   \n",
       "3  [0.57006231679881, 0.735791317373497, 0.897499...             -0.024589   \n",
       "4  [0.961409579675241, 0.989801214599116, 0.43596...             -0.005392   \n",
       "\n",
       "          q   -log10q                   annotated_functions  \n",
       "0  0.056815  1.245538                       protein binding  \n",
       "1  0.062684  1.202841  protein binding;transcription factor  \n",
       "2  0.088372  1.053685                                   NaN  \n",
       "3  0.046533  1.332239                  transcription factor  \n",
       "4  0.062684  1.202841                                   NaN  "
      ]
     },
     "execution_count": 30,
     "metadata": {},
     "output_type": "execute_result"
    }
   ],
   "source": [
    "BAF_losslike = pd.merge(MT_genes, BAF_losslike_genes, on = 'gene', how = 'inner')\n",
    "BAF_losslike.head()"
   ]
  },
  {
   "cell_type": "code",
   "execution_count": 45,
   "id": "6f9a7968",
   "metadata": {},
   "outputs": [
    {
     "name": "stdout",
     "output_type": "stream",
     "text": [
      "178\n"
     ]
    }
   ],
   "source": [
    "print(len(BAF_losslike_genes))"
   ]
  },
  {
   "cell_type": "code",
   "execution_count": 46,
   "id": "93d3b43c",
   "metadata": {},
   "outputs": [
    {
     "name": "stdout",
     "output_type": "stream",
     "text": [
      "159\n"
     ]
    }
   ],
   "source": [
    "print(len(BAF_losslike))"
   ]
  },
  {
   "cell_type": "code",
   "execution_count": 47,
   "id": "75c4e6c0",
   "metadata": {},
   "outputs": [],
   "source": [
    "# Step 1: Split the comma-separated cell names and flatten the list\n",
    "all_cell_names2 = [cell.strip() for sublist in BAF_losslike['Cell names_MT'] for cell in sublist.split(',')]\n",
    "\n",
    "# Step 2: Extract unique cell names\n",
    "unique_cell_names2 = list(set(all_cell_names2))\n",
    "\n",
    "# Step 3: Convert the list of unique cell names into a DataFrame with header \"CellName\"\n",
    "BAF_losslike_cells = pd.DataFrame(unique_cell_names2, columns=['Cell name'])"
   ]
  },
  {
   "cell_type": "code",
   "execution_count": 48,
   "id": "f9270cae",
   "metadata": {},
   "outputs": [
    {
     "data": {
      "text/html": [
       "<div>\n",
       "<style scoped>\n",
       "    .dataframe tbody tr th:only-of-type {\n",
       "        vertical-align: middle;\n",
       "    }\n",
       "\n",
       "    .dataframe tbody tr th {\n",
       "        vertical-align: top;\n",
       "    }\n",
       "\n",
       "    .dataframe thead th {\n",
       "        text-align: right;\n",
       "    }\n",
       "</style>\n",
       "<table border=\"1\" class=\"dataframe\">\n",
       "  <thead>\n",
       "    <tr style=\"text-align: right;\">\n",
       "      <th></th>\n",
       "      <th>Cell name</th>\n",
       "    </tr>\n",
       "  </thead>\n",
       "  <tbody>\n",
       "    <tr>\n",
       "      <th>0</th>\n",
       "      <td>HDMYZ</td>\n",
       "    </tr>\n",
       "    <tr>\n",
       "      <th>1</th>\n",
       "      <td>BC3C</td>\n",
       "    </tr>\n",
       "    <tr>\n",
       "      <th>2</th>\n",
       "      <td>PANC0327</td>\n",
       "    </tr>\n",
       "    <tr>\n",
       "      <th>3</th>\n",
       "      <td>JHUEM2</td>\n",
       "    </tr>\n",
       "    <tr>\n",
       "      <th>4</th>\n",
       "      <td>EWS502</td>\n",
       "    </tr>\n",
       "  </tbody>\n",
       "</table>\n",
       "</div>"
      ],
      "text/plain": [
       "  Cell name\n",
       "0     HDMYZ\n",
       "1      BC3C\n",
       "2  PANC0327\n",
       "3    JHUEM2\n",
       "4    EWS502"
      ]
     },
     "execution_count": 48,
     "metadata": {},
     "output_type": "execute_result"
    }
   ],
   "source": [
    "BAF_losslike_cells.head()"
   ]
  },
  {
   "cell_type": "code",
   "execution_count": 49,
   "id": "3ff1739f",
   "metadata": {},
   "outputs": [
    {
     "name": "stdout",
     "output_type": "stream",
     "text": [
      "551\n"
     ]
    }
   ],
   "source": [
    "print(len(BAF_losslike_cells))"
   ]
  },
  {
   "cell_type": "code",
   "execution_count": 40,
   "id": "ccd54d31",
   "metadata": {},
   "outputs": [],
   "source": [
    "BAF_losslike_cells.to_excel('check.xlsx')"
   ]
  },
  {
   "cell_type": "code",
   "execution_count": 42,
   "id": "9d8bd04d",
   "metadata": {},
   "outputs": [
    {
     "name": "stdout",
     "output_type": "stream",
     "text": [
      "567\n"
     ]
    }
   ],
   "source": [
    "print(len(DRC_table))"
   ]
  },
  {
   "cell_type": "code",
   "execution_count": 33,
   "id": "57054858",
   "metadata": {},
   "outputs": [],
   "source": [
    "DRC_BAF_losslike = pd.merge(DRC_table, BAF_losslike_cells, on = 'Cell name', how = 'inner')\n",
    "DRC_BAF_losslike.to_excel('DRCtable_BAF_losslike_ALLCELLS.xlsx')\n",
    "\n",
    "DRC_BAF_losslike_p53WT = pd.merge(p53WT, BAF_losslike_cells, on = 'Cell name', how = 'inner')\n",
    "DRC_BAF_losslike_p53WT.to_excel('DRCtable_BAF_losslike_p53WTcells.xlsx')\n",
    "\n",
    "DRC_BAF_losslike_p53MUT = pd.merge(p53MUT, BAF_losslike_cells, on = 'Cell name', how = 'inner')\n",
    "DRC_BAF_losslike_p53MUT.to_excel('DRCtable_BAF_losslike_p53MUTcells.xlsx')"
   ]
  },
  {
   "cell_type": "code",
   "execution_count": 37,
   "id": "3bd1465e",
   "metadata": {},
   "outputs": [
    {
     "data": {
      "text/html": [
       "<div>\n",
       "<style scoped>\n",
       "    .dataframe tbody tr th:only-of-type {\n",
       "        vertical-align: middle;\n",
       "    }\n",
       "\n",
       "    .dataframe tbody tr th {\n",
       "        vertical-align: top;\n",
       "    }\n",
       "\n",
       "    .dataframe thead th {\n",
       "        text-align: right;\n",
       "    }\n",
       "</style>\n",
       "<table border=\"1\" class=\"dataframe\">\n",
       "  <thead>\n",
       "    <tr style=\"text-align: right;\">\n",
       "      <th></th>\n",
       "      <th>Cell name</th>\n",
       "      <th>Depmap ID</th>\n",
       "      <th>AUC, DEG-35</th>\n",
       "      <th>AUC, DEG-35 sigfig 4</th>\n",
       "    </tr>\n",
       "  </thead>\n",
       "  <tbody>\n",
       "    <tr>\n",
       "      <th>0</th>\n",
       "      <td>143B</td>\n",
       "      <td>ACH-001001</td>\n",
       "      <td>0.738025</td>\n",
       "      <td>0.7380</td>\n",
       "    </tr>\n",
       "    <tr>\n",
       "      <th>1</th>\n",
       "      <td>22RV1</td>\n",
       "      <td>ACH-000956</td>\n",
       "      <td>0.543824</td>\n",
       "      <td>0.5438</td>\n",
       "    </tr>\n",
       "    <tr>\n",
       "      <th>2</th>\n",
       "      <td>253J</td>\n",
       "      <td>ACH-000011</td>\n",
       "      <td>0.811752</td>\n",
       "      <td>0.8118</td>\n",
       "    </tr>\n",
       "    <tr>\n",
       "      <th>3</th>\n",
       "      <td>253JBV</td>\n",
       "      <td>ACH-000026</td>\n",
       "      <td>0.713113</td>\n",
       "      <td>0.7131</td>\n",
       "    </tr>\n",
       "    <tr>\n",
       "      <th>4</th>\n",
       "      <td>42MGBA</td>\n",
       "      <td>ACH-000323</td>\n",
       "      <td>0.776396</td>\n",
       "      <td>0.7764</td>\n",
       "    </tr>\n",
       "  </tbody>\n",
       "</table>\n",
       "</div>"
      ],
      "text/plain": [
       "  Cell name   Depmap ID  AUC, DEG-35  AUC, DEG-35 sigfig 4\n",
       "0      143B  ACH-001001     0.738025                0.7380\n",
       "1     22RV1  ACH-000956     0.543824                0.5438\n",
       "2      253J  ACH-000011     0.811752                0.8118\n",
       "3    253JBV  ACH-000026     0.713113                0.7131\n",
       "4    42MGBA  ACH-000323     0.776396                0.7764"
      ]
     },
     "execution_count": 37,
     "metadata": {},
     "output_type": "execute_result"
    }
   ],
   "source": [
    "DRC_BAF_losslike.head()"
   ]
  },
  {
   "cell_type": "code",
   "execution_count": 34,
   "id": "e475c7c1",
   "metadata": {},
   "outputs": [],
   "source": [
    "# Step 1: Split the comma-separated cell names and flatten the list\n",
    "all_cell_names = [cell.strip() for sublist in BAF_loss['Cell names_WT'] for cell in sublist.split(',')]\n",
    "\n",
    "# Step 2: Extract unique cell names\n",
    "unique_cell_names = list(set(all_cell_names))\n",
    "\n",
    "# Step 3: Convert the list of unique cell names into a DataFrame with header \"CellName\"\n",
    "BAF_WT_cells = pd.DataFrame(unique_cell_names, columns=['Cell name'])\n",
    "\n",
    "# Step 1: Split the comma-separated cell names and flatten the list\n",
    "all_cell_names = [cell.strip() for sublist in BAF_losslike['Cell names_WT'] for cell in sublist.split(',')]\n",
    "\n",
    "# Step 2: Extract unique cell names\n",
    "unique_cell_names = list(set(all_cell_names))\n",
    "\n",
    "# Step 3: Convert the list of unique cell names into a DataFrame with header \"CellName\"\n",
    "BAF_WT_cells_2 = pd.DataFrame(unique_cell_names, columns=['Cell name'])"
   ]
  },
  {
   "cell_type": "code",
   "execution_count": 35,
   "id": "012ef151",
   "metadata": {},
   "outputs": [],
   "source": [
    "BAF_WT_noloss_cells = pd.merge(BAF_WT_cells,BAF_WT_cells_2, on = 'Cell name', how = 'inner')"
   ]
  },
  {
   "cell_type": "code",
   "execution_count": 41,
   "id": "f1091945",
   "metadata": {},
   "outputs": [
    {
     "data": {
      "text/html": [
       "<div>\n",
       "<style scoped>\n",
       "    .dataframe tbody tr th:only-of-type {\n",
       "        vertical-align: middle;\n",
       "    }\n",
       "\n",
       "    .dataframe tbody tr th {\n",
       "        vertical-align: top;\n",
       "    }\n",
       "\n",
       "    .dataframe thead th {\n",
       "        text-align: right;\n",
       "    }\n",
       "</style>\n",
       "<table border=\"1\" class=\"dataframe\">\n",
       "  <thead>\n",
       "    <tr style=\"text-align: right;\">\n",
       "      <th></th>\n",
       "      <th>Cell name</th>\n",
       "    </tr>\n",
       "  </thead>\n",
       "  <tbody>\n",
       "    <tr>\n",
       "      <th>0</th>\n",
       "      <td>HDMYZ</td>\n",
       "    </tr>\n",
       "    <tr>\n",
       "      <th>1</th>\n",
       "      <td>BC3C</td>\n",
       "    </tr>\n",
       "    <tr>\n",
       "      <th>2</th>\n",
       "      <td>PANC0327</td>\n",
       "    </tr>\n",
       "    <tr>\n",
       "      <th>3</th>\n",
       "      <td>JHUEM2</td>\n",
       "    </tr>\n",
       "    <tr>\n",
       "      <th>4</th>\n",
       "      <td>EWS502</td>\n",
       "    </tr>\n",
       "  </tbody>\n",
       "</table>\n",
       "</div>"
      ],
      "text/plain": [
       "  Cell name\n",
       "0     HDMYZ\n",
       "1      BC3C\n",
       "2  PANC0327\n",
       "3    JHUEM2\n",
       "4    EWS502"
      ]
     },
     "execution_count": 41,
     "metadata": {},
     "output_type": "execute_result"
    }
   ],
   "source": [
    "BAF_WT_cells_2.head()"
   ]
  },
  {
   "cell_type": "code",
   "execution_count": 36,
   "id": "768930ff",
   "metadata": {},
   "outputs": [],
   "source": [
    "DRC_BAF_WT = pd.merge(DRC_table, BAF_WT_noloss_cells, on = 'Cell name', how = 'inner')\n",
    "DRC_BAF_WT.to_excel('DRCtable_BAF_WT_ALLCELLS.xlsx')\n",
    "\n",
    "DRC_BAF_WT_p53WT = pd.merge(p53WT, BAF_WT_noloss_cells, on = 'Cell name', how = 'inner')\n",
    "DRC_BAF_WT_p53WT.to_excel('DRCtable_BAF_WT_p53WTcell.xlsx')\n",
    "\n",
    "DRC_BAF_WT_p53MUT = pd.merge(p53MUT, BAF_WT_noloss_cells, on = 'Cell name', how = 'inner')\n",
    "DRC_BAF_WT_p53MUT.to_excel('DRCtable_BAF_WT_p53MUTcells.xlsx')"
   ]
  },
  {
   "cell_type": "code",
   "execution_count": 50,
   "id": "98af3821",
   "metadata": {},
   "outputs": [],
   "source": [
    "BAF_losslike_genes2 = pd.read_excel('cBAFlosslike_gene_mut_enrich_p05.xlsx')"
   ]
  },
  {
   "cell_type": "code",
   "execution_count": 51,
   "id": "00e1c33c",
   "metadata": {},
   "outputs": [
    {
     "data": {
      "text/html": [
       "<div>\n",
       "<style scoped>\n",
       "    .dataframe tbody tr th:only-of-type {\n",
       "        vertical-align: middle;\n",
       "    }\n",
       "\n",
       "    .dataframe tbody tr th {\n",
       "        vertical-align: top;\n",
       "    }\n",
       "\n",
       "    .dataframe thead th {\n",
       "        text-align: right;\n",
       "    }\n",
       "</style>\n",
       "<table border=\"1\" class=\"dataframe\">\n",
       "  <thead>\n",
       "    <tr style=\"text-align: right;\">\n",
       "      <th></th>\n",
       "      <th>Unnamed: 0</th>\n",
       "      <th>gene</th>\n",
       "      <th>Mean AUC_WT</th>\n",
       "      <th>Cell names_WT</th>\n",
       "      <th>AUC values_WT</th>\n",
       "      <th>Mean AUC_MT</th>\n",
       "      <th>Cell names_MT</th>\n",
       "      <th>HgncName</th>\n",
       "      <th>AUC values_MT</th>\n",
       "      <th>AUC_difference_MT-WT</th>\n",
       "      <th>q</th>\n",
       "      <th>-log10q</th>\n",
       "      <th>annotated_functions</th>\n",
       "    </tr>\n",
       "  </thead>\n",
       "  <tbody>\n",
       "    <tr>\n",
       "      <th>0</th>\n",
       "      <td>119</td>\n",
       "      <td>ACACB</td>\n",
       "      <td>0.753390</td>\n",
       "      <td>OVTOKO, NCIH28, SNB75, G402, LAMA84, RD, WM983...</td>\n",
       "      <td>[0.738025461647376, 0.811752287495537, 0.71311...</td>\n",
       "      <td>0.651706</td>\n",
       "      <td>22RV1, SW900, NUGC3, IGROV1, HEC1A, CCK81, MFE...</td>\n",
       "      <td>acetyl-CoA carboxylase beta</td>\n",
       "      <td>[0.543823949372426, 0.867995523789083, 0.72887...</td>\n",
       "      <td>-0.101684</td>\n",
       "      <td>0.056815</td>\n",
       "      <td>1.245538</td>\n",
       "      <td>protein binding</td>\n",
       "    </tr>\n",
       "    <tr>\n",
       "      <th>1</th>\n",
       "      <td>397</td>\n",
       "      <td>AFF2</td>\n",
       "      <td>0.748529</td>\n",
       "      <td>OVTOKO, NCIH28, SNB75, G402, LAMA84, RD, WM983...</td>\n",
       "      <td>[0.738025461647376, 0.543823949372426, 0.81175...</td>\n",
       "      <td>0.723940</td>\n",
       "      <td>RERFLCMS, RERFLCMS, ONS76, HEC1A, RL952, LS180...</td>\n",
       "      <td>AF4/FMR2 family member 2</td>\n",
       "      <td>[0.57006231679881, 0.735791317373497, 0.897499...</td>\n",
       "      <td>-0.024589</td>\n",
       "      <td>0.046533</td>\n",
       "      <td>1.332239</td>\n",
       "      <td>transcription factor</td>\n",
       "    </tr>\n",
       "    <tr>\n",
       "      <th>2</th>\n",
       "      <td>1163</td>\n",
       "      <td>ATG2B</td>\n",
       "      <td>0.750699</td>\n",
       "      <td>OVTOKO, NCIH28, SNB75, G402, LAMA84, RD, WM983...</td>\n",
       "      <td>[0.738025461647376, 0.811752287495537, 0.71311...</td>\n",
       "      <td>0.673432</td>\n",
       "      <td>22RV1, MFE319, SNUC2A, 2313287, GP2D, MDAMB361...</td>\n",
       "      <td>autophagy related 2B</td>\n",
       "      <td>[0.543823949372426, 0.77116001889797, 0.539455...</td>\n",
       "      <td>-0.077267</td>\n",
       "      <td>0.047725</td>\n",
       "      <td>1.321253</td>\n",
       "      <td>NaN</td>\n",
       "    </tr>\n",
       "    <tr>\n",
       "      <th>3</th>\n",
       "      <td>2827</td>\n",
       "      <td>CHD2</td>\n",
       "      <td>0.748362</td>\n",
       "      <td>OVTOKO, NCIH28, SNB75, G402, LAMA84, RD, WM983...</td>\n",
       "      <td>[0.738025461647376, 0.543823949372426, 0.81175...</td>\n",
       "      <td>0.712274</td>\n",
       "      <td>NUGC3, HEC1A, SNU407, HCC1428, HT115, HT115, I...</td>\n",
       "      <td>chromodomain helicase DNA binding protein 2</td>\n",
       "      <td>[0.919748818602965, 0.790899869123222, 0.83239...</td>\n",
       "      <td>-0.036089</td>\n",
       "      <td>0.009230</td>\n",
       "      <td>2.034796</td>\n",
       "      <td>RNA binding</td>\n",
       "    </tr>\n",
       "    <tr>\n",
       "      <th>4</th>\n",
       "      <td>3215</td>\n",
       "      <td>COL4A5</td>\n",
       "      <td>0.748128</td>\n",
       "      <td>OVTOKO, NCIH28, SNB75, G402, LAMA84, RD, WM983...</td>\n",
       "      <td>[0.738025461647376, 0.543823949372426, 0.81175...</td>\n",
       "      <td>0.727098</td>\n",
       "      <td>HEC1A, HCC1428, NCIH1435, WM2664, 2313287, NCI...</td>\n",
       "      <td>collagen type IV alpha 5 chain</td>\n",
       "      <td>[0.77116001889797, 0.435969007366679, 0.747046...</td>\n",
       "      <td>-0.021029</td>\n",
       "      <td>0.056815</td>\n",
       "      <td>1.245538</td>\n",
       "      <td>protein binding</td>\n",
       "    </tr>\n",
       "  </tbody>\n",
       "</table>\n",
       "</div>"
      ],
      "text/plain": [
       "   Unnamed: 0    gene  Mean AUC_WT  \\\n",
       "0         119   ACACB     0.753390   \n",
       "1         397    AFF2     0.748529   \n",
       "2        1163   ATG2B     0.750699   \n",
       "3        2827    CHD2     0.748362   \n",
       "4        3215  COL4A5     0.748128   \n",
       "\n",
       "                                       Cell names_WT  \\\n",
       "0  OVTOKO, NCIH28, SNB75, G402, LAMA84, RD, WM983...   \n",
       "1  OVTOKO, NCIH28, SNB75, G402, LAMA84, RD, WM983...   \n",
       "2  OVTOKO, NCIH28, SNB75, G402, LAMA84, RD, WM983...   \n",
       "3  OVTOKO, NCIH28, SNB75, G402, LAMA84, RD, WM983...   \n",
       "4  OVTOKO, NCIH28, SNB75, G402, LAMA84, RD, WM983...   \n",
       "\n",
       "                                       AUC values_WT  Mean AUC_MT  \\\n",
       "0  [0.738025461647376, 0.811752287495537, 0.71311...     0.651706   \n",
       "1  [0.738025461647376, 0.543823949372426, 0.81175...     0.723940   \n",
       "2  [0.738025461647376, 0.811752287495537, 0.71311...     0.673432   \n",
       "3  [0.738025461647376, 0.543823949372426, 0.81175...     0.712274   \n",
       "4  [0.738025461647376, 0.543823949372426, 0.81175...     0.727098   \n",
       "\n",
       "                                       Cell names_MT  \\\n",
       "0  22RV1, SW900, NUGC3, IGROV1, HEC1A, CCK81, MFE...   \n",
       "1  RERFLCMS, RERFLCMS, ONS76, HEC1A, RL952, LS180...   \n",
       "2  22RV1, MFE319, SNUC2A, 2313287, GP2D, MDAMB361...   \n",
       "3  NUGC3, HEC1A, SNU407, HCC1428, HT115, HT115, I...   \n",
       "4  HEC1A, HCC1428, NCIH1435, WM2664, 2313287, NCI...   \n",
       "\n",
       "                                      HgncName  \\\n",
       "0                  acetyl-CoA carboxylase beta   \n",
       "1                     AF4/FMR2 family member 2   \n",
       "2                         autophagy related 2B   \n",
       "3  chromodomain helicase DNA binding protein 2   \n",
       "4               collagen type IV alpha 5 chain   \n",
       "\n",
       "                                       AUC values_MT  AUC_difference_MT-WT  \\\n",
       "0  [0.543823949372426, 0.867995523789083, 0.72887...             -0.101684   \n",
       "1  [0.57006231679881, 0.735791317373497, 0.897499...             -0.024589   \n",
       "2  [0.543823949372426, 0.77116001889797, 0.539455...             -0.077267   \n",
       "3  [0.919748818602965, 0.790899869123222, 0.83239...             -0.036089   \n",
       "4  [0.77116001889797, 0.435969007366679, 0.747046...             -0.021029   \n",
       "\n",
       "          q   -log10q   annotated_functions  \n",
       "0  0.056815  1.245538       protein binding  \n",
       "1  0.046533  1.332239  transcription factor  \n",
       "2  0.047725  1.321253                   NaN  \n",
       "3  0.009230  2.034796           RNA binding  \n",
       "4  0.056815  1.245538       protein binding  "
      ]
     },
     "execution_count": 51,
     "metadata": {},
     "output_type": "execute_result"
    }
   ],
   "source": [
    "BAF_losslike = pd.merge(MT_genes, BAF_losslike_genes2, on = 'gene', how = 'inner')\n",
    "BAF_losslike.head()"
   ]
  },
  {
   "cell_type": "code",
   "execution_count": 52,
   "id": "28f50598",
   "metadata": {},
   "outputs": [
    {
     "name": "stdout",
     "output_type": "stream",
     "text": [
      "28\n"
     ]
    }
   ],
   "source": [
    "print(len(BAF_losslike))"
   ]
  },
  {
   "cell_type": "code",
   "execution_count": 53,
   "id": "00150501",
   "metadata": {},
   "outputs": [],
   "source": [
    "# Step 1: Split the comma-separated cell names and flatten the list\n",
    "all_cell_names2 = [cell.strip() for sublist in BAF_losslike['Cell names_MT'] for cell in sublist.split(',')]\n",
    "\n",
    "# Step 2: Extract unique cell names\n",
    "unique_cell_names2 = list(set(all_cell_names2))\n",
    "\n",
    "# Step 3: Convert the list of unique cell names into a DataFrame with header \"CellName\"\n",
    "BAF_losslike_cells = pd.DataFrame(unique_cell_names2, columns=['Cell name'])"
   ]
  },
  {
   "cell_type": "code",
   "execution_count": 58,
   "id": "089c187c",
   "metadata": {},
   "outputs": [
    {
     "name": "stdout",
     "output_type": "stream",
     "text": [
      "330\n"
     ]
    }
   ],
   "source": [
    "print(len(BAF_losslike_cells))"
   ]
  },
  {
   "cell_type": "code",
   "execution_count": 54,
   "id": "a9804d79",
   "metadata": {},
   "outputs": [],
   "source": [
    "DRC_BAF_losslike = pd.merge(DRC_table, BAF_losslike_cells, on = 'Cell name', how = 'inner')\n",
    "DRC_BAF_losslike.to_excel('DRCtable_BAF_losslike_ALLCELLS.xlsx')\n",
    "\n",
    "DRC_BAF_losslike_p53WT = pd.merge(p53WT, BAF_losslike_cells, on = 'Cell name', how = 'inner')\n",
    "DRC_BAF_losslike_p53WT.to_excel('DRCtable_BAF_losslike_p53WTcells.xlsx')\n",
    "\n",
    "DRC_BAF_losslike_p53MUT = pd.merge(p53MUT, BAF_losslike_cells, on = 'Cell name', how = 'inner')\n",
    "DRC_BAF_losslike_p53MUT.to_excel('DRCtable_BAF_losslike_p53MUTcells.xlsx')"
   ]
  },
  {
   "cell_type": "code",
   "execution_count": 59,
   "id": "b3dbc25e",
   "metadata": {},
   "outputs": [],
   "source": [
    "BAF_MT_total = pd.concat([BAF_loss_cells, BAF_losslike_cells])"
   ]
  },
  {
   "cell_type": "code",
   "execution_count": 60,
   "id": "9ee15f6f",
   "metadata": {},
   "outputs": [
    {
     "data": {
      "text/html": [
       "<div>\n",
       "<style scoped>\n",
       "    .dataframe tbody tr th:only-of-type {\n",
       "        vertical-align: middle;\n",
       "    }\n",
       "\n",
       "    .dataframe tbody tr th {\n",
       "        vertical-align: top;\n",
       "    }\n",
       "\n",
       "    .dataframe thead th {\n",
       "        text-align: right;\n",
       "    }\n",
       "</style>\n",
       "<table border=\"1\" class=\"dataframe\">\n",
       "  <thead>\n",
       "    <tr style=\"text-align: right;\">\n",
       "      <th></th>\n",
       "      <th>Cell name</th>\n",
       "    </tr>\n",
       "  </thead>\n",
       "  <tbody>\n",
       "    <tr>\n",
       "      <th>0</th>\n",
       "      <td>NCIH460</td>\n",
       "    </tr>\n",
       "    <tr>\n",
       "      <th>1</th>\n",
       "      <td>HARA</td>\n",
       "    </tr>\n",
       "    <tr>\n",
       "      <th>2</th>\n",
       "      <td>EB1</td>\n",
       "    </tr>\n",
       "    <tr>\n",
       "      <th>3</th>\n",
       "      <td>MEWO</td>\n",
       "    </tr>\n",
       "    <tr>\n",
       "      <th>4</th>\n",
       "      <td>NCIH522</td>\n",
       "    </tr>\n",
       "  </tbody>\n",
       "</table>\n",
       "</div>"
      ],
      "text/plain": [
       "  Cell name\n",
       "0   NCIH460\n",
       "1      HARA\n",
       "2       EB1\n",
       "3      MEWO\n",
       "4   NCIH522"
      ]
     },
     "execution_count": 60,
     "metadata": {},
     "output_type": "execute_result"
    }
   ],
   "source": [
    "BAF_MT_total.head()"
   ]
  },
  {
   "cell_type": "code",
   "execution_count": 61,
   "id": "90c7905b",
   "metadata": {},
   "outputs": [
    {
     "name": "stdout",
     "output_type": "stream",
     "text": [
      "595\n"
     ]
    }
   ],
   "source": [
    "print(len(BAF_MT_total))"
   ]
  },
  {
   "cell_type": "code",
   "execution_count": 62,
   "id": "18d21325",
   "metadata": {},
   "outputs": [],
   "source": [
    "BAF_MT_total = BAF_MT_total.drop_duplicates()"
   ]
  },
  {
   "cell_type": "code",
   "execution_count": 63,
   "id": "495660f4",
   "metadata": {},
   "outputs": [
    {
     "name": "stdout",
     "output_type": "stream",
     "text": [
      "409\n"
     ]
    }
   ],
   "source": [
    "print(len(BAF_MT_total))"
   ]
  },
  {
   "cell_type": "code",
   "execution_count": 69,
   "id": "79225da5",
   "metadata": {},
   "outputs": [],
   "source": [
    "merged_df = DRC_table.merge(BAF_MT_total, on = ['Cell name'], how = 'left', indicator = True)\n",
    "# Filter out the rows that are present in both DataFrames\n",
    "df1_filtered = merged_df[merged_df['_merge'] == 'left_only'].drop(columns=['_merge'])"
   ]
  },
  {
   "cell_type": "code",
   "execution_count": 70,
   "id": "a8625dfd",
   "metadata": {},
   "outputs": [
    {
     "name": "stdout",
     "output_type": "stream",
     "text": [
      "161\n"
     ]
    }
   ],
   "source": [
    "print(len(df1_filtered))"
   ]
  },
  {
   "cell_type": "code",
   "execution_count": 71,
   "id": "2e2fe795",
   "metadata": {},
   "outputs": [],
   "source": [
    "df1_filtered.to_excel('DRCtable_BAF_WT_ALLCELLS.xlsx')"
   ]
  },
  {
   "cell_type": "code",
   "execution_count": 72,
   "id": "65979520",
   "metadata": {},
   "outputs": [],
   "source": [
    "merged_df = p53WT.merge(BAF_MT_total, on = ['Cell name'], how = 'left', indicator = True)\n",
    "# Filter out the rows that are present in both DataFrames\n",
    "df1_filtered = merged_df[merged_df['_merge'] == 'left_only'].drop(columns=['_merge'])"
   ]
  },
  {
   "cell_type": "code",
   "execution_count": 73,
   "id": "d1cd0a4d",
   "metadata": {},
   "outputs": [
    {
     "name": "stdout",
     "output_type": "stream",
     "text": [
      "62\n"
     ]
    }
   ],
   "source": [
    "print(len(df1_filtered))"
   ]
  },
  {
   "cell_type": "code",
   "execution_count": 74,
   "id": "8ab89839",
   "metadata": {},
   "outputs": [],
   "source": [
    "df1_filtered.to_excel('DRCtable_BAF_WT_p53WTcell.xlsx')"
   ]
  },
  {
   "cell_type": "code",
   "execution_count": 75,
   "id": "d780acb5",
   "metadata": {},
   "outputs": [],
   "source": [
    "merged_df = p53MUT.merge(BAF_MT_total, on = ['Cell name'], how = 'left', indicator = True)\n",
    "# Filter out the rows that are present in both DataFrames\n",
    "df1_filtered = merged_df[merged_df['_merge'] == 'left_only'].drop(columns=['_merge'])"
   ]
  },
  {
   "cell_type": "code",
   "execution_count": 76,
   "id": "01a4b8cc",
   "metadata": {},
   "outputs": [
    {
     "name": "stdout",
     "output_type": "stream",
     "text": [
      "99\n"
     ]
    }
   ],
   "source": [
    "print(len(df1_filtered))"
   ]
  },
  {
   "cell_type": "code",
   "execution_count": 77,
   "id": "aa44e0cd",
   "metadata": {},
   "outputs": [],
   "source": [
    "df1_filtered.to_excel('DRCtable_BAF_WT_p53MUTcell.xlsx')"
   ]
  },
  {
   "cell_type": "code",
   "execution_count": 3,
   "id": "455724de",
   "metadata": {},
   "outputs": [],
   "source": [
    "BAF_key_genes = pd.read_excel('BAF key genes.xlsx')\n",
    "BAF_losslike_15genes = pd.read_excel('cBAFlosslike_gene_mut_enrich_top15.xlsx')"
   ]
  },
  {
   "cell_type": "code",
   "execution_count": null,
   "id": "13b0073d",
   "metadata": {},
   "outputs": [],
   "source": []
  }
 ],
 "metadata": {
  "kernelspec": {
   "display_name": "Python 3 (ipykernel)",
   "language": "python",
   "name": "python3"
  },
  "language_info": {
   "codemirror_mode": {
    "name": "ipython",
    "version": 3
   },
   "file_extension": ".py",
   "mimetype": "text/x-python",
   "name": "python",
   "nbconvert_exporter": "python",
   "pygments_lexer": "ipython3",
   "version": "3.10.14"
  }
 },
 "nbformat": 4,
 "nbformat_minor": 5
}
